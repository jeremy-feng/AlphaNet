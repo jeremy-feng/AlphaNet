{
 "cells": [
  {
   "cell_type": "code",
   "execution_count": 1,
   "metadata": {},
   "outputs": [],
   "source": [
    "import numpy as np\n",
    "from matplotlib import pyplot as plt\n",
    "import torch\n",
    "import torch.nn as nn\n",
    "from torchsummary import summary\n",
    "from torch.utils.data import Dataset\n",
    "from torch.utils.data import DataLoader\n",
    "from torch import optim\n",
    "\n",
    "from tqdm import tqdm"
   ]
  },
  {
   "cell_type": "code",
   "execution_count": 2,
   "metadata": {},
   "outputs": [],
   "source": [
    "batch_size = 1000"
   ]
  },
  {
   "cell_type": "code",
   "execution_count": 3,
   "metadata": {},
   "outputs": [],
   "source": [
    "# 生成卷积操作时需要的两列数据的组合的列表\n",
    "def generate_combination(N):\n",
    "    \"\"\"\n",
    "    args:\n",
    "        N: int, the number of rows of the matrix\n",
    "\n",
    "    return:\n",
    "        combination: list, the combination of two columns of the matrix\n",
    "        combination_rev: list, the combination of two rows of the matrix, which is the reverse of combination\n",
    "    \"\"\"\n",
    "    col = []\n",
    "    col_rev = []\n",
    "    for i in range(1,N):\n",
    "        for j in range(0,i):\n",
    "            col.append([i,j])\n",
    "            col_rev.append([j,i])\n",
    "    return col, col_rev\n",
    "# 生成卷积操作时需要的两列数据的组合的列表\n",
    "combination, combination_rev = generate_combination(9)\n",
    "\n",
    "# 根据输入的矩阵和卷积操作的步长, 计算卷积操作的索引\n",
    "def get_index_list(matrix, stride):\n",
    "    \"\"\"\n",
    "    args:\n",
    "        matrix: torch.tensor, the input matrix\n",
    "        stride: int, the stride of the convolution operation\n",
    "    \n",
    "    return:\n",
    "        index_list: list, the index of the convolution operation\n",
    "\n",
    "    \"\"\"\n",
    "    W = matrix.shape[3]\n",
    "    if W % stride == 0:\n",
    "        index_list = list(np.arange(0, W+stride, stride))\n",
    "    else:\n",
    "        mod = W % stride\n",
    "        index_list = list(np.arange(0, W+stride-mod, stride)) + [W]\n",
    "    return index_list\n",
    "# 根据输入的矩阵和卷积操作的步长, 计算卷积操作的索引\n",
    "# inception1模块使用的卷积操作的步长为10\n",
    "index_list_1 = get_index_list(np.zeros((1,1,9,30)), 10)\n",
    "# inception2模块使用的卷积操作的步长为3\n",
    "index_list_2 = get_index_list(np.zeros((1,1,9,30)), 3)"
   ]
  },
  {
   "cell_type": "code",
   "execution_count": 4,
   "metadata": {},
   "outputs": [],
   "source": [
    "class GRU(nn.Module):\n",
    "    def __init__(self):\n",
    "        super(GRU, self).__init__()\n",
    "        self.gru = nn.GRU(input_size=117, hidden_size=30,\n",
    "                          num_layers=2, batch_first=True, bidirectional=False)\n",
    "\n",
    "    def forward(self, data):\n",
    "        # N*time_step*117 -> output: torch.Size([1000, time_step, 30]), hn: torch.Size([2, 1000, 30]), 对于Inception1, time_step=3, 对于Inception2, time_step=10\n",
    "        output, hn = self.gru(data)\n",
    "        h = hn[-1:] # 使用最后一层hidden state的输出, h: torch.Size([1, 1000, 30])\n",
    "        data = h.squeeze(0) # torch.Size([1000, 30])\n",
    "        return data  # torch.Size([1000, 30])\n"
   ]
  },
  {
   "cell_type": "code",
   "execution_count": 5,
   "metadata": {},
   "outputs": [],
   "source": [
    "class Inception(nn.Module):\n",
    "    \"\"\"\n",
    "    Inception, 用于提取时间序列的特征, 具体操作包括：\n",
    "\n",
    "    1. kernel_size和stride为d=10或3的特征提取层, 类似于卷积层，用于提取时间序列的特征. 具体包括:(下面以d=10为例)\n",
    "\n",
    "        1. ts_corr4d: 过去 d 天 X 值构成的时序数列和 Y 值构成的时序数列的相关系数\n",
    "        2. ts_cov4d: 过去 d 天 X 值构成的时序数列和 Y 值构成的时序数列的协方差\n",
    "        3. ts_stddev4d: 过去 d 天 X 值构成的时序数列的标准差\n",
    "        4. ts_zscore4d: 过去 d 天 X 值构成的时序数列的平均值除以标准差\n",
    "        5. ts_return4d: (X - delay(X, d))/delay(X, d)-1, 其中delay(X, d)为 X 在 d 天前的取值\n",
    "        6. ts_decaylinear4d: 过去 d 天 X 值构成的时序数列的加权平均值，权数为 d, d – 1, …, 1(权数之和应为 1，需进行归一化处理)，其中离现在越近的日子权数越大\n",
    "        7. ts_mean4d: 过去 d 天 X 值构成的时序数列的平均值\n",
    "\n",
    "        各操作得到的张量维数：\n",
    "        1. 由于涉及两个变量的协方差, 因此ts_corr4d和ts_cov4d的输出为 N*1*36*3\n",
    "        2. 其余操作均只涉及单变量的时序计算, 因此输出为 N*1*9*3\n",
    "\n",
    "    2. 对第1步的输出进行Batch Normalization操作, 输出维数仍为 N*1*36*3 或 N*1*9*3\n",
    "\n",
    "    3. 对第2步的输出, 在 H 维度上拼接, 输出维数为 N*1*(2*36+5*9)*3 = N*1*117*3\n",
    "\n",
    "    4. 对第3步的输出, 使用GRU进行特征提取, 输出维数为 N*30\n",
    "\n",
    "    \"\"\"\n",
    "\n",
    "    def __init__(self, combination, combination_rev, index_list):\n",
    "        \"\"\"\n",
    "        combination: 卷积操作时需要的两列数据的组合\n",
    "        combination_rev: 卷积操作时需要的两列数据的组合, 与combination相反\n",
    "        index_list: 卷积操作时需要的时间索引\n",
    "        \n",
    "        \"\"\"\n",
    "\n",
    "        super(Inception, self).__init__()\n",
    "        # 卷积操作时需要的两列数据的组合\n",
    "        self.combination = combination\n",
    "        self.combination_rev = combination_rev\n",
    "\n",
    "        # 卷积操作时需要的时间索引\n",
    "        self.index_list = index_list\n",
    "\n",
    "        # 卷积操作后的Batch Normalization层\n",
    "        self.bc1 = nn.BatchNorm2d(1)\n",
    "        self.bc2 = nn.BatchNorm2d(1)\n",
    "        self.bc3 = nn.BatchNorm2d(1)\n",
    "        self.bc4 = nn.BatchNorm2d(1)\n",
    "        self.bc5 = nn.BatchNorm2d(1)\n",
    "        self.bc6 = nn.BatchNorm2d(1)\n",
    "        self.bc7 = nn.BatchNorm2d(1)\n",
    "\n",
    "        # GRU层\n",
    "        self.GRU = GRU()\n",
    "\n",
    "    def forward(self, data):\n",
    "        \"\"\"\n",
    "        data: 输入的数据, 维度为batch_size*1*9*30\n",
    "\n",
    "        \"\"\"\n",
    "        # 本层的输入为batch_size*1*9*30, 在训练时不需要反向传播, 因此可以使用detach()函数\n",
    "        data = data.detach().cpu().numpy()\n",
    "        combination = self.combination\n",
    "        combination_rev = self.combination_rev\n",
    "\n",
    "        # 卷积操作\n",
    "        conv1 = self.ts_corr4d(data, combination, combination_rev).to(torch.float)\n",
    "        conv2 = self.ts_cov4d(data, combination, combination_rev).to(torch.float)\n",
    "        conv3 = self.ts_stddev4d(data).to(torch.float)\n",
    "        conv4 = self.ts_zcore4d(data).to(torch.float)\n",
    "        conv5 = self.ts_return4d(data).to(torch.float)\n",
    "        conv6 = self.ts_decaylinear4d(data).to(torch.float)\n",
    "        conv7 = self.ts_mean4d(data).to(torch.float)\n",
    "\n",
    "        # 卷积操作后的Batch Normalization\n",
    "        batch1 = self.bc1(conv1)\n",
    "        batch2 = self.bc2(conv2)\n",
    "        batch3 = self.bc3(conv3)\n",
    "        batch4 = self.bc4(conv4)\n",
    "        batch5 = self.bc5(conv5)\n",
    "        batch6 = self.bc6(conv6)\n",
    "        batch7 = self.bc7(conv7)\n",
    "\n",
    "        # 在 H 维度上进行特征拼接\n",
    "        feature = torch.cat(\n",
    "            [batch1, batch2, batch3, batch4, batch5, batch6, batch7], axis=2)  # N*1*(2*36+5*9)*3 = N*1*117*3\n",
    "\n",
    "        # GRU层\n",
    "        feature = feature.squeeze(1)  # N*1*117*3 -> N*117*3\n",
    "        feature = feature.permute(0, 2, 1)  # N*117*3 -> N*3*117\n",
    "        feature = self.GRU(feature)  # N*3*117 -> N*30\n",
    "\n",
    "        return feature\n",
    "\n",
    "    # 过去 d 天 X 值构成的时序数列和 Y 值构成的时序数列的相关系数\n",
    "    def ts_corr4d(self, Matrix, combination, combination_rev):\n",
    "        new_H = len(combination)\n",
    "        index_list = self.index_list\n",
    "        list = []  # 存放长度为len(index_list)-1的相关系数\n",
    "        for i in range(len(index_list)-1):\n",
    "            start_index = index_list[i]\n",
    "            end_index = index_list[i+1]\n",
    "            data = Matrix[:, :, combination, start_index:end_index]  # N*1*new_H*2*d\n",
    "            data2 = Matrix[:, :, combination_rev,\n",
    "                           start_index:end_index]  # N*1*new_H*2*d\n",
    "            std1 = data.std(axis=4, keepdims=True)  # N*1*new_H*2*1, 在时序上求标准差\n",
    "            std2 = data2.std(axis=4, keepdims=True)  # N*1*new_H*2*1, 在时序上求标准差\n",
    "            std = (std1*std2).mean(axis=3, keepdims=True)  # N*1*new_H*1*1\n",
    "            list.append(std)\n",
    "        std = np.squeeze(np.array(list)).transpose(1, 2, 0).reshape(-1, 1, new_H,\n",
    "                                                                    len(index_list)-1)+0.01  # N*1*new_H*len(index_list)-1 # 加上0.01, 防止除0\n",
    "        # N*1*new_H*len(index_list)-1\n",
    "        cov = self.ts_cov4d(Matrix, combination, combination_rev)\n",
    "        corr = cov/std  # N*1*new_H*len(index_list)-1\n",
    "        return corr\n",
    "\n",
    "    # 过去 d 天 X 值构成的时序数列和 Y 值构成的时序数列的协方差\n",
    "    def ts_cov4d(self, Matrix, combination, combination_rev):\n",
    "        new_H = len(combination)\n",
    "        index_list = self.index_list\n",
    "        list = []  # 存放长度为len(index_list)-1的协方差\n",
    "        for i in range(len(index_list)-1):\n",
    "            start_index = index_list[i]\n",
    "            end_index = index_list[i+1]\n",
    "            data = Matrix[:, :, combination, start_index:end_index]  # N*1*new_H*2*d\n",
    "            data2 = Matrix[:, :, combination_rev,\n",
    "                           start_index:end_index]  # N*1*new_H*2*d\n",
    "            mean1 = data.mean(axis=4, keepdims=True)  # N*1*new_H*2*1, 在时序上求均值\n",
    "            mean2 = data2.mean(axis=4, keepdims=True)  # N*1*new_H*2*1, 在时序上求均值\n",
    "            spread1 = data - mean1  # N*1*new_H*2*d, 在时序上求偏差\n",
    "            spread2 = data2 - mean2  # N*1*new_H*2*d, 在时序上求偏差\n",
    "            cov = ((spread1 * spread2).sum(axis=4, keepdims=True) /\n",
    "                   (data.shape[4]-1)).mean(axis=3, keepdims=True)  # N*1*new_H*1*1\n",
    "            list.append(cov)\n",
    "        cov = np.squeeze(np.array(list)).transpose(\n",
    "            1, 2, 0).reshape(-1, 1, new_H, len(index_list)-1)  # N*1*new_H*len(index_list)-1\n",
    "        return torch.from_numpy(cov)\n",
    "\n",
    "    # 过去 d 天 X 值构成的时序数列的标准差\n",
    "    def ts_stddev4d(self, Matrix):\n",
    "        # 只需要对单变量做卷积操作, 不需要将变量两两组合。因此输出的 H 可以保持和输入的 H 一致\n",
    "        new_H = Matrix.shape[2]\n",
    "        index_list = self.index_list\n",
    "        list = []  # 存放长度为len(index_list)-1的标准差\n",
    "        for i in range(len(index_list)-1):\n",
    "            start_index = index_list[i]\n",
    "            end_index = index_list[i+1]\n",
    "            data = Matrix[:, :, :, start_index:end_index]  # N*1*H*d\n",
    "            std = data.std(axis=3, keepdims=True)  # N*1*H*1\n",
    "            list.append(std)\n",
    "        std4d = np.squeeze(np.array(list)).transpose(\n",
    "            1, 2, 0).reshape(-1, 1, new_H, len(index_list)-1)  # N*1*new_H*len(index_list)-1\n",
    "        return torch.from_numpy(std4d)\n",
    "\n",
    "    # 过去 d 天 X 值构成的时序数列的平均值除以标准差\n",
    "    def ts_zcore4d(self, Matrix):\n",
    "        # 只需要对单变量做卷积操作, 不需要将变量两两组合。因此输出的 H 可以保持和输入的 H 一致\n",
    "        new_H = Matrix.shape[2]\n",
    "        index_list = self.index_list\n",
    "        list = []  # 存放长度为len(index_list)-1的zcore\n",
    "        for i in range(len(index_list)-1):\n",
    "            start_index = index_list[i]\n",
    "            end_index = index_list[i+1]\n",
    "            data = Matrix[:, :, :, start_index:end_index]  # N*1*H*d\n",
    "            mean = data.mean(axis=3, keepdims=True)  # N*1*H*1\n",
    "            std = data.std(axis=3, keepdims=True) + \\\n",
    "                0.01  # N*1*H*1, 加上0.01, 防止除以0\n",
    "            list.append(mean/std)\n",
    "        zscore = np.squeeze(np.array(list)).transpose(\n",
    "            1, 2, 0).reshape(-1, 1, new_H, len(index_list)-1)  # N*1*new_H*len(index_list)-1\n",
    "        return torch.from_numpy(zscore)\n",
    "\n",
    "    # (X - delay(X, d))/delay(X, d)-1, 其中 delay(X, d)为 X 在 d 天前的取值\n",
    "    def ts_return4d(self, Matrix):\n",
    "        # 只需要对单变量做卷积操作, 不需要将变量两两组合。因此输出的 H 可以保持和输入的 H 一致\n",
    "        new_H = Matrix.shape[2]\n",
    "        index_list = self.index_list\n",
    "        list = []  # 存放长度为len(index_list)-1的return\n",
    "        for i in range(len(index_list)-1):\n",
    "            start_index = index_list[i]\n",
    "            end_index = index_list[i+1]\n",
    "            data = Matrix[:, :, :, start_index:end_index]  # N*1*H*d\n",
    "            # N*1*H*1, 在分母加上0.01, 防止除以0\n",
    "            return_ = data[:, :, :, -1]/(data[:, :, :, 0]+0.01)-1\n",
    "            list.append(return_)\n",
    "        ts_return = np.squeeze(np.array(list)).transpose(\n",
    "            1, 2, 0).reshape(-1, 1, new_H, len(index_list)-1)  # N*1*new_H*len(index_list)-1\n",
    "        return torch.from_numpy(ts_return)\n",
    "\n",
    "    # 过去 d 天 X 值构成的时序数列的加权平均值, 权数为 d, d – 1, …, 1(权数之和应为 1, 需进行归一化处理), 其中离现在越近的日子权数越大\n",
    "    def ts_decaylinear4d(self, Matrix):\n",
    "        new_H = Matrix.shape[2]\n",
    "        index_list = self.index_list\n",
    "        list = []  # 存放长度为len(index_list)-1的加权平均值\n",
    "        for i in range(len(index_list)-1):\n",
    "            start_index = index_list[i]\n",
    "            end_index = index_list[i+1]\n",
    "            range_ = end_index-start_index\n",
    "            weight = np.arange(1, range_+1)\n",
    "            weight = weight/weight.sum()  # 权重向量\n",
    "            data = Matrix[:, :, :, start_index:end_index]  # N*1*H*d\n",
    "            wd = (data*weight).sum(axis=3, keepdims=True)  # N*1*H*1\n",
    "            list.append(wd)\n",
    "        ts_decaylinear = np.squeeze(np.array(list)).transpose(\n",
    "            1, 2, 0).reshape(-1, 1, new_H, len(index_list)-1)  # N*1*new_H*len(index_list)-1\n",
    "        return torch.from_numpy(ts_decaylinear)\n",
    "\n",
    "    # 过去 d 天 X 值构成的时序数列的平均值\n",
    "    def ts_mean4d(self, Matrix):\n",
    "        new_H = Matrix.shape[2]\n",
    "        index_list = self.index_list\n",
    "        list = []  # 存放长度为len(index_list)-1的平均值\n",
    "        for i in range(len(index_list)-1):\n",
    "            start_index = index_list[i]\n",
    "            end_index = index_list[i+1]\n",
    "            data = Matrix[:, :, :, start_index:end_index]  # N*1*H*d\n",
    "            mean_ = data.mean(axis=3, keepdims=True)  # N*1*H*1\n",
    "            list.append(mean_)\n",
    "        ts_mean = np.squeeze(np.array(list)).transpose(\n",
    "            1, 2, 0).reshape(-1, 1, new_H, len(index_list)-1)  # N*1*new_H*len(index_list)-1\n",
    "        return torch.from_numpy(ts_mean)"
   ]
  },
  {
   "cell_type": "code",
   "execution_count": 6,
   "metadata": {},
   "outputs": [],
   "source": [
    "class AlphaNet(nn.Module):\n",
    "\n",
    "    def __init__(self, combination, combination_rev, index_list_1, index_list_2, fc_num):\n",
    "        super(AlphaNet, self).__init__()\n",
    "        self.combination = combination\n",
    "        self.combination_rev = combination_rev\n",
    "        # 自定义的Inception1模块\n",
    "        self.Inception_1 = Inception(combination, combination_rev, index_list_1)\n",
    "        # 自定义的Inception2模块\n",
    "        self.Inception_2 = Inception(combination, combination_rev, index_list_2)\n",
    "        # 输出层\n",
    "        self.fc = nn.Linear(fc_num, 1) # 30 -> 1\n",
    "        # 初始化权重\n",
    "        self._init_weights()\n",
    "\n",
    "    def _init_weights(self):\n",
    "        # 使用xavier的均匀分布对weights进行初始化\n",
    "        nn.init.xavier_uniform_(self.fc.weight)\n",
    "        # 使用正态分布对bias进行初始化\n",
    "        nn.init.normal_(self.fc.bias, std=1e-6)\n",
    "\n",
    "    def forward(self, data):\n",
    "        data_1 = self.Inception_1(data) # N*30\n",
    "        data_2 = self.Inception_2(data) # N*30\n",
    "        pool_cat = torch.cat([data_1, data_2], axis=1) # N*60\n",
    "        # 输出层\n",
    "        data = self.fc(pool_cat)\n",
    "        # 激活函数, 使输出值在0到1之间\n",
    "        data = torch.sigmoid(data)\n",
    "        data = data.to(torch.float)\n",
    "\n",
    "        return data\n"
   ]
  },
  {
   "cell_type": "code",
   "execution_count": 7,
   "metadata": {},
   "outputs": [],
   "source": [
    "test = AlphaNet(combination, combination_rev, index_list_1, index_list_2, fc_num=60)"
   ]
  },
  {
   "cell_type": "code",
   "execution_count": 8,
   "metadata": {},
   "outputs": [
    {
     "name": "stdout",
     "output_type": "stream",
     "text": [
      "----------------------------------------------------------------\n",
      "        Layer (type)               Output Shape         Param #\n",
      "================================================================\n",
      "       BatchNorm2d-1             [-1, 1, 36, 3]               2\n",
      "       BatchNorm2d-2             [-1, 1, 36, 3]               2\n",
      "       BatchNorm2d-3              [-1, 1, 9, 3]               2\n",
      "       BatchNorm2d-4              [-1, 1, 9, 3]               2\n",
      "       BatchNorm2d-5              [-1, 1, 9, 3]               2\n",
      "       BatchNorm2d-6              [-1, 1, 9, 3]               2\n",
      "       BatchNorm2d-7              [-1, 1, 9, 3]               2\n",
      "               GRU-8  [[-1, 3, 30], [-1, 2, 30]]               0\n",
      "               GRU-9                   [-1, 30]               0\n",
      "        Inception-10                   [-1, 30]               0\n",
      "      BatchNorm2d-11            [-1, 1, 36, 10]               2\n",
      "      BatchNorm2d-12            [-1, 1, 36, 10]               2\n",
      "      BatchNorm2d-13             [-1, 1, 9, 10]               2\n",
      "      BatchNorm2d-14             [-1, 1, 9, 10]               2\n",
      "      BatchNorm2d-15             [-1, 1, 9, 10]               2\n",
      "      BatchNorm2d-16             [-1, 1, 9, 10]               2\n",
      "      BatchNorm2d-17             [-1, 1, 9, 10]               2\n",
      "              GRU-18  [[-1, 10, 30], [-1, 2, 30]]               0\n",
      "              GRU-19                   [-1, 30]               0\n",
      "        Inception-20                   [-1, 30]               0\n",
      "           Linear-21                    [-1, 1]              61\n",
      "================================================================\n",
      "Total params: 89\n",
      "Trainable params: 89\n",
      "Non-trainable params: 0\n",
      "----------------------------------------------------------------\n",
      "Input size (MB): 0.00\n",
      "Forward/backward pass size (MB): 0.17\n",
      "Params size (MB): 0.00\n",
      "Estimated Total Size (MB): 0.17\n",
      "----------------------------------------------------------------\n"
     ]
    }
   ],
   "source": [
    "summary(test, input_size=(1, 9, 30))"
   ]
  },
  {
   "cell_type": "code",
   "execution_count": 2,
   "metadata": {},
   "outputs": [
    {
     "name": "stdout",
     "output_type": "stream",
     "text": [
      "训练集特征维数:  (11825, 9, 30)\n",
      "训练集标签维数:  (11825,)\n",
      "测试集特征维数:  (4943, 9, 30)\n",
      "测试集标签维数:  (4943,)\n"
     ]
    }
   ],
   "source": [
    "# 读取数据\n",
    "X_train = np.load('../data/X_train.npy')\n",
    "y_train = np.load('../data/y_train.npy')\n",
    "X_test = np.load('../data/X_test.npy')\n",
    "y_test = np.load('../data/y_test.npy')\n",
    "# 查看数据的大小\n",
    "print(\"训练集特征维数: \", X_train.shape)\n",
    "print(\"训练集标签维数: \", y_train.shape)\n",
    "print(\"测试集特征维数: \", X_test.shape)\n",
    "print(\"测试集标签维数: \", y_test.shape)\n",
    "\n",
    "# 将数据转换为tensor\n",
    "trainx = torch.from_numpy(np.array(X_train)).reshape(\n",
    "    len(X_train), 1, 9, 30)  # 训练集的特征\n",
    "trainy = torch.from_numpy(np.array(y_train)).reshape(\n",
    "    len(y_train), 1)  # 训练集的标签\n",
    "testx = torch.from_numpy(np.array(X_test)).reshape(\n",
    "    len(X_test), 1, 9, 30)  # 测试集的特征\n",
    "testy = torch.from_numpy(np.array(y_test)).reshape(\n",
    "    len(y_test), 1)  # 测试集的标签\n",
    "\n",
    "# 由于是分类问题, 因此将y大于0的标签设置为1，小于0的标签设置为0\n",
    "trainy[trainy > 0] = 1\n",
    "trainy[trainy < 0] = 0\n",
    "testy[testy > 0] = 1\n",
    "testy[testy < 0] = 0"
   ]
  },
  {
   "cell_type": "code",
   "execution_count": 10,
   "metadata": {},
   "outputs": [],
   "source": [
    "class FactorData(Dataset):\n",
    "\n",
    "    def __init__(self, train_x, train_y):\n",
    "        self.len = len(train_x)\n",
    "        self.x_data = train_x\n",
    "        self.y_data = train_y\n",
    "\n",
    "    def __getitem__(self, index):\n",
    "        \"\"\"\n",
    "        指定读取数据的方式: 根据索引index返回dataset[index]\n",
    "\n",
    "        \"\"\"\n",
    "        return self.x_data[index], self.y_data[index]\n",
    "\n",
    "    def __len__(self):\n",
    "        return self.len\n",
    "\n",
    "\n",
    "# 将数据载入到DataLoader中\n",
    "train_data = FactorData(trainx, trainy)\n",
    "train_loader = DataLoader(dataset=train_data,\n",
    "                          batch_size=batch_size,\n",
    "                          shuffle=False)  # 不打乱数据集\n",
    "test_data = FactorData(testx, testy)\n",
    "test_loader = DataLoader(dataset=test_data,\n",
    "                         batch_size=batch_size,\n",
    "                         shuffle=False)  # 不打乱数据集\n"
   ]
  },
  {
   "cell_type": "code",
   "execution_count": 11,
   "metadata": {},
   "outputs": [],
   "source": [
    "# 构建模型\n",
    "alphanet = AlphaNet(combination=combination, combination_rev=combination_rev, index_list_1=index_list_1, index_list_2=index_list_2, fc_num=60)"
   ]
  },
  {
   "cell_type": "code",
   "execution_count": 12,
   "metadata": {},
   "outputs": [],
   "source": [
    "#weight decay: 对所有weight参数进行L2正则化\n",
    "weight_list,bias_list = [],[]\n",
    "for name,p in alphanet.named_parameters():\n",
    "    if 'bias' in name:\n",
    "        bias_list += [p]\n",
    "    else:\n",
    "        weight_list += [p]\n",
    "optimizer = optim.SGD([{'params': weight_list, 'weight_decay':1e-5},\n",
    "                       {'params': bias_list, 'weight_decay':0}],\n",
    "                      lr = 1e-3,\n",
    "                      momentum = 0.9)\n",
    "# 由于是分类问题, 因此使用Binary Cross Entropy损失函数\n",
    "criterion = nn.BCELoss()\n"
   ]
  },
  {
   "cell_type": "code",
   "execution_count": 13,
   "metadata": {},
   "outputs": [
    {
     "name": "stderr",
     "output_type": "stream",
     "text": [
      "                                                               \r"
     ]
    }
   ],
   "source": [
    "epoch_num = 30\n",
    "train_loss_list = []\n",
    "test_loss_list = []\n",
    "best_test_epoch, best_test_loss = 0, np.inf\n",
    "for epoch in range(1, epoch_num+1):\n",
    "    train_loss, test_loss = 0, 0\n",
    "    # 在训练集中训练模型\n",
    "    alphanet.train()  # 关于.train()的作用，可以参考https://stackoverflow.com/questions/51433378/what-does-model-train-do-in-pytorch\n",
    "    train_batch_num = 0\n",
    "    for data, label in tqdm(train_loader, f'Epoch {epoch}-train', leave=False):\n",
    "        train_batch_num += 1\n",
    "        # 准备数据\n",
    "        data, label = data.to(torch.float), label.to(torch.float)\n",
    "        # 得到训练集的预测值\n",
    "        out_put = alphanet(data)\n",
    "        # 计算损失\n",
    "        loss = criterion(out_put, label)\n",
    "        # 将损失值加入到本轮训练的损失中\n",
    "        train_loss += loss.item()\n",
    "        # 梯度清零\n",
    "        optimizer.zero_grad() # 关于.zero_grad()的作用，可以参考https://stackoverflow.com/questions/48001598/why-do-we-need-to-call-zero-grad-in-pytorch\n",
    "        # 反向传播求解梯度\n",
    "        loss.backward()\n",
    "        # 更新权重参数\n",
    "        optimizer.step()\n",
    "\n",
    "    # 测试模式\n",
    "    alphanet.eval()\n",
    "    test_batch_num = 0\n",
    "    with torch.no_grad():\n",
    "        for data, label in tqdm(test_loader, f'Epoch {epoch}-test ', leave=False):\n",
    "            test_batch_num += 1\n",
    "            data, label = data.to(torch.float), label.to(torch.float)\n",
    "            # 得到测试集的预测值\n",
    "            y_pred = alphanet(data)\n",
    "            # 计算损失\n",
    "            loss = criterion(y_pred, label)\n",
    "            # 将损失值加入到本轮测试的损失中\n",
    "            test_loss += loss.item()\n",
    "\n",
    "    train_loss_list.append(train_loss/train_batch_num)\n",
    "    test_loss_list.append(test_loss/test_batch_num)"
   ]
  },
  {
   "cell_type": "code",
   "execution_count": 26,
   "metadata": {},
   "outputs": [
    {
     "data": {
      "image/png": "[encoded data removed]",
      "text/plain": [
       "<Figure size 648x432 with 1 Axes>"
      ]
     },
     "metadata": {
      "needs_background": "light"
     },
     "output_type": "display_data"
    }
   ],
   "source": [
    "# 画出损失函数的变化\n",
    "fig = plt.figure(figsize=(9, 6))\n",
    "# 字号\n",
    "plt.rcParams['font.size'] = 16\n",
    "ax = fig.add_subplot(111)\n",
    "ax.plot(train_loss_list, 'b', label='train loss')\n",
    "ax.plot(test_loss_list, 'r', label='test loss')\n",
    "ax.legend()\n",
    "ax.set(xlabel='Epoch')\n",
    "ax.set(ylabel='Binary Cross Entropy Loss')\n",
    "plt.show()"
   ]
  },
  {
   "cell_type": "code",
   "execution_count": 15,
   "metadata": {},
   "outputs": [],
   "source": [
    "# 绘制部分预测值和真实值\n",
    "y_pred = y_pred.detach().numpy()\n",
    "label = label.detach().numpy()"
   ]
  },
  {
   "cell_type": "code",
   "execution_count": 16,
   "metadata": {},
   "outputs": [
    {
     "name": "stderr",
     "output_type": "stream",
     "text": [
      "/usr/local/lib/python3.8/dist-packages/sklearn/utils/multiclass.py:13: DeprecationWarning: Please use `spmatrix` from the `scipy.sparse` namespace, the `scipy.sparse.base` namespace is deprecated.\n",
      "  from scipy.sparse.base import spmatrix\n"
     ]
    }
   ],
   "source": [
    "import sklearn.metrics as metrics"
   ]
  },
  {
   "cell_type": "code",
   "execution_count": 17,
   "metadata": {},
   "outputs": [
    {
     "data": {
      "image/png": "[encoded data removed]",
      "text/plain": [
       "<Figure size 432x288 with 1 Axes>"
      ]
     },
     "metadata": {
      "needs_background": "light"
     },
     "output_type": "display_data"
    }
   ],
   "source": [
    "# 绘制ROC曲线\n",
    "fpr, tpr, thresholds = metrics.roc_curve(label, y_pred)\n",
    "plt.plot(fpr, tpr, color='darkorange', lw=2, label='ROC curve')\n",
    "plt.plot([0, 1], [0, 1], color='navy', lw=2, linestyle='--')\n",
    "plt.xlabel('False Positive Rate')\n",
    "plt.ylabel('True Positive Rate')\n",
    "plt.title('ROC Curve')\n",
    "plt.legend(loc=\"lower right\")\n",
    "plt.show()"
   ]
  },
  {
   "cell_type": "code",
   "execution_count": 23,
   "metadata": {},
   "outputs": [],
   "source": [
    "# 绘制混淆矩阵\n",
    "y_pred = np.where(y_pred > 0.5, 1, 0)\n",
    "cm = metrics.confusion_matrix(label, y_pred)"
   ]
  },
  {
   "cell_type": "code",
   "execution_count": 24,
   "metadata": {},
   "outputs": [
    {
     "data": {
      "text/plain": [
       "array([[408, 222],\n",
       "       [182, 131]])"
      ]
     },
     "execution_count": 24,
     "metadata": {},
     "output_type": "execute_result"
    }
   ],
   "source": [
    "cm"
   ]
  },
  {
   "cell_type": "code",
   "execution_count": 22,
   "metadata": {},
   "outputs": [
    {
     "data": {
      "text/plain": [
       "Text(64.0, 0.5, 'y_true')"
      ]
     },
     "execution_count": 22,
     "metadata": {},
     "output_type": "execute_result"
    },
    {
     "data": {
      "image/png": "[encoded data removed]",
      "text/plain": [
       "<Figure size 720x576 with 2 Axes>"
      ]
     },
     "metadata": {
      "needs_background": "light"
     },
     "output_type": "display_data"
    }
   ],
   "source": [
    "import seaborn as sn\n",
    "plt.figure(figsize = (10,8))\n",
    "sn.heatmap(cm, annot=True, cmap='Blues', fmt='d')\n",
    "plt.xlabel('y_pred')\n",
    "plt.ylabel('y_true')"
   ]
  },
  {
   "cell_type": "code",
   "execution_count": 20,
   "metadata": {},
   "outputs": [],
   "source": [
    "# 保存模型\n",
    "torch.save(alphanet, 'alphanet_v3_gru_classification.pth')"
   ]
  }
 ],
 "metadata": {
  "kernelspec": {
   "display_name": "Python 3.8.0 64-bit",
   "language": "python",
   "name": "python3"
  },
  "language_info": {
   "codemirror_mode": {
    "name": "ipython",
    "version": 3
   },
   "file_extension": ".py",
   "mimetype": "text/x-python",
   "name": "python",
   "nbconvert_exporter": "python",
   "pygments_lexer": "ipython3",
   "version": "3.8.0"
  },
  "orig_nbformat": 4,
  "vscode": {
   "interpreter": {
    "hash": "767d51c1340bd893661ea55ea3124f6de3c7a262a8b4abca0554b478b1e2ff90"
   }
  }
 },
 "nbformat": 4,
 "nbformat_minor": 2
}
